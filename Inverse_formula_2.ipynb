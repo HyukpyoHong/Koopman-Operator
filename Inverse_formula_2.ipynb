{
 "cells": [
  {
   "cell_type": "code",
   "execution_count": null,
   "id": "4fafd7e7-cc42-478f-b997-9f0113228937",
   "metadata": {},
   "outputs": [],
   "source": [
    "### Import packages \n",
    "import networkx as nx # for handling graphs/networks \n",
    "import numpy as np # for basic scientific computing \n",
    "import pandas as pd # for basic scientific computing \n",
    "import matplotlib.pyplot as plt # for plotting\n",
    "import matplotlib.gridspec as gridspec\n",
    "from scipy.special import binom\n",
    "from scipy.integrate import solve_ivp\n",
    "# import Koopman_source as kp\n",
    "from math import comb\n",
    "#from copy import copy\n",
    "import csv"
   ]
  },
  {
   "cell_type": "code",
   "execution_count": null,
   "id": "5d0c6f72",
   "metadata": {},
   "outputs": [],
   "source": [
    "# numpy.linalg.pinv\n",
    "\n",
    "Psi_X1 = np.array([[4, 0, 7], \n",
    "    [3, 6, 4],\n",
    "    [8, 5, 7],\n",
    "    [10, 7, 2],\n",
    "    [3, 2, 7]])\n",
    "\n",
    "\n",
    "Psi_X1[:,2] = Psi_X1[:,0] + 1*Psi_X1[:, 1]\n",
    "# This modification makes A = Psi_X1.transpose() @ Psi_X1 noninvertible.\n",
    "\n",
    "np.linalg.det(Psi_X1.transpose() @ Psi_X1)\n",
    "#disp(det(Psi_X1' * Psi_X1))"
   ]
  },
  {
   "cell_type": "code",
   "execution_count": null,
   "id": "1b77a4e0",
   "metadata": {},
   "outputs": [],
   "source": [
    "Psi_X2 = np.array([[1, 4],\n",
    "    [4, 5],\n",
    "    [1, 3],\n",
    "    [3, 1],\n",
    "    [3, 2]], dtype = 'float64')\n",
    "\n",
    "Psi_X = np.concatenate((Psi_X1, Psi_X2), axis = 1)"
   ]
  },
  {
   "cell_type": "code",
   "execution_count": null,
   "id": "91024aaf",
   "metadata": {},
   "outputs": [],
   "source": [
    "K11 = np.array([[2, 4, 2],\n",
    "    [2, 1, 3],\n",
    "    [4, 2, 5]])\n",
    "\n",
    "Psi_Y1 = Psi_X1 @ K11\n",
    "Psi_Y2 = np.array([[2, 5],\n",
    "    [2, 1],\n",
    "    [4, 4],\n",
    "    [3, 4],\n",
    "    [3, 2]])\n",
    "\n",
    "Psi_Y = np.concatenate((Psi_Y1, Psi_Y2), axis = 1)\n",
    "\n",
    "M, N = Psi_X.shape\n",
    "N1 = Psi_X1.shape[1]\n",
    "N2 = Psi_X2.shape[1]\n",
    "\n",
    "A = Psi_X1.transpose() @ Psi_X1\n",
    "B = Psi_X1.transpose() @ Psi_X2\n",
    "C = Psi_X2.transpose() @ Psi_X1\n",
    "D = Psi_X2.transpose() @ Psi_X2\n",
    "\n",
    "#P = eye(M) - Psi_X2 * (Psi_X2' * Psi_X2)^(-1) * Psi_X2';\n",
    "P = np.identity(M) - Psi_X2 @ np.linalg.pinv(D) @ Psi_X2.transpose()\n",
    "#Q = Psi_X1' * P * Psi_X1;\n",
    "Q = Psi_X1.transpose() @ P @ Psi_X1\n",
    "K_approx = np.linalg.pinv(Psi_X.transpose() @ Psi_X) @ Psi_X.transpose() @ Psi_Y\n",
    "\n",
    "# Y[np.ix_([0,3],[0,3])]\n",
    "\n",
    "#K11_approx = K_approx(1:N1, 1:N1);\n",
    "K11_approx = K_approx[np.ix_([0,N1-1],[0,N1-1])]\n",
    "\n",
    "print(np.round(K_approx,3))\n",
    "print(K11)\n",
    "\n",
    "# K21에 block zero matrix는 여전하지만, K11이 큰 K에서 submatrix로 구했을 때는 달라져버림. \n"
   ]
  }
 ],
 "metadata": {
  "kernelspec": {
   "display_name": "py_base",
   "language": "python",
   "name": "python3"
  },
  "language_info": {
   "codemirror_mode": {
    "name": "ipython",
    "version": 3
   },
   "file_extension": ".py",
   "mimetype": "text/x-python",
   "name": "python",
   "nbconvert_exporter": "python",
   "pygments_lexer": "ipython3",
   "version": "3.11.7"
  },
  "varInspector": {
   "cols": {
    "lenName": 16,
    "lenType": 16,
    "lenVar": 40
   },
   "kernels_config": {
    "python": {
     "delete_cmd_postfix": "",
     "delete_cmd_prefix": "del ",
     "library": "var_list.py",
     "varRefreshCmd": "print(var_dic_list())"
    },
    "r": {
     "delete_cmd_postfix": ") ",
     "delete_cmd_prefix": "rm(",
     "library": "var_list.r",
     "varRefreshCmd": "cat(var_dic_list()) "
    }
   },
   "types_to_exclude": [
    "module",
    "function",
    "builtin_function_or_method",
    "instance",
    "_Feature"
   ],
   "window_display": false
  }
 },
 "nbformat": 4,
 "nbformat_minor": 5
}
