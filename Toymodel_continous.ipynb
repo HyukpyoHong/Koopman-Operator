{
 "cells": [
  {
   "cell_type": "code",
   "execution_count": null,
   "id": "4fafd7e7-cc42-478f-b997-9f0113228937",
   "metadata": {},
   "outputs": [],
   "source": [
    "### Import packages \n",
    "import networkx as nx # for handling graphs/networks \n",
    "import numpy as np # for basic scientific computing \n",
    "import pandas as pd # for basic scientific computing \n",
    "import matplotlib.pyplot as plt # for plotting\n",
    "import matplotlib.gridspec as gridspec\n",
    "from scipy.special import binom\n",
    "from scipy.integrate import solve_ivp\n",
    "import Koopman_source as kp\n",
    "import csv"
   ]
  },
  {
   "cell_type": "code",
   "execution_count": null,
   "id": "bf596510-e15d-4e76-9882-54da958a8598",
   "metadata": {},
   "outputs": [],
   "source": [
    "## Toy example from the Steven's note\n",
    "\n",
    "# Continuous dynamical system\n",
    "# \\dot{x}_1 = \\mu x_1\n",
    "# \\dot{x}_2 = \\lambda (x_2 - x_1^2)\n",
    "\n",
    "# A three-dimensional linear Koopman system with y_1 = x_1, y_2 = x_2, y_3 = x_1^2.\n",
    "# \\dot{y}_1 = \\mu y_1\n",
    "# \\dot{y}_2 = \\lambda (y_2 - y_3)\n",
    "# \\dot{y}_3 = \\mu (y_3)\n",
    "def toy_c1(t, x, mu0, lambda0): # Here, c1 stands for the first continuous example.\n",
    "    #mu0, lambda0 = kappa[0], kappa[1]\n",
    "    dx = np.zeros([2])\n",
    "    #dx = [mu0 * x[0], lambda0 * (x[0] - np.power(x[1], 2))]\n",
    "    dx[0] = mu0 * x[0]\n",
    "    dx[1] = lambda0 * (x[1] - np.power(x[0], 2))\n",
    "    return dx\n",
    "\n",
    "def toy_c1_Koop(t, y, mu0, lambda0):\n",
    "    #mu0, lambda0 = kappa[0], kappa[1]\n",
    "    dy = np.zeros([3])\n",
    "    dy[0] = mu0 * y[0]\n",
    "    dy[1] = lambda0 * (y[1] - y[2])\n",
    "    dy[2] = 2 * mu0 * y[2]\n",
    "    return dy\n",
    "\n"
   ]
  },
  {
   "cell_type": "code",
   "execution_count": null,
   "id": "86c25af3-5af5-4286-8ab1-7113b0cdf771",
   "metadata": {},
   "outputs": [],
   "source": [
    "x=np.zeros([2,10])\n",
    "x0 = np.ones([2])\n",
    "#x.shape[0]\n",
    "x[:,2] = x0\n",
    "#print(x[:,2])\n",
    "print(x0)\n",
    "print(x)"
   ]
  },
  {
   "cell_type": "code",
   "execution_count": null,
   "id": "80037506-f481-47f7-af40-3053ece3b96b",
   "metadata": {},
   "outputs": [],
   "source": [
    "tspan1 = (0.0, 30.0)\n",
    "t_eval = np.arange(tspan1[0], tspan1[1]+1, 1)\n",
    "x_init = [2,-4]\n",
    "#x_init = np.random.uniform(low=4, high=6, size=2)\n",
    "y_init = [x_init[0], x_init[1], np.power(x_init[0],2)]\n",
    "#kappa1 = np.random.uniform(low=[,3], high=[3,5], size=2)\n",
    "kappa1 = [-0.05, -1]\n",
    "\n",
    "sol_c1 = solve_ivp(toy_c1, tspan1, x_init, args = kappa1, method='RK45', t_eval = t_eval)\n",
    "sol_c1_Koop = solve_ivp(toy_c1_Koop, tspan1, y_init, args = kappa1, method='RK45', t_eval=t_eval) \n",
    "#plt.plot(sol1.t, sol1.y[0])\n",
    "plt.plot(sol_c1.y[0], sol_c1.y[1])\n",
    "plt.plot(sol_c1_Koop.y[0], sol_c1_Koop.y[1])\n"
   ]
  }
 ],
 "metadata": {
  "kernelspec": {
   "display_name": "Python 3 (ipykernel)",
   "language": "python",
   "name": "python3"
  },
  "language_info": {
   "codemirror_mode": {
    "name": "ipython",
    "version": 3
   },
   "file_extension": ".py",
   "mimetype": "text/x-python",
   "name": "python",
   "nbconvert_exporter": "python",
   "pygments_lexer": "ipython3",
   "version": "3.11.7"
  },
  "varInspector": {
   "cols": {
    "lenName": 16,
    "lenType": 16,
    "lenVar": 40
   },
   "kernels_config": {
    "python": {
     "delete_cmd_postfix": "",
     "delete_cmd_prefix": "del ",
     "library": "var_list.py",
     "varRefreshCmd": "print(var_dic_list())"
    },
    "r": {
     "delete_cmd_postfix": ") ",
     "delete_cmd_prefix": "rm(",
     "library": "var_list.r",
     "varRefreshCmd": "cat(var_dic_list()) "
    }
   },
   "types_to_exclude": [
    "module",
    "function",
    "builtin_function_or_method",
    "instance",
    "_Feature"
   ],
   "window_display": false
  }
 },
 "nbformat": 4,
 "nbformat_minor": 5
}
