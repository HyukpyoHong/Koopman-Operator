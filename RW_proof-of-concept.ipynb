{
 "cells": [
  {
   "cell_type": "code",
   "execution_count": null,
   "id": "4fafd7e7-cc42-478f-b997-9f0113228937",
   "metadata": {},
   "outputs": [],
   "source": [
    "### Import packages \n",
    "import networkx as nx # for handling graphs/networks \n",
    "import numpy as np # for basic scientific computing \n",
    "import pandas as pd # for basic scientific computing \n",
    "import matplotlib.pyplot as plt # for plotting\n",
    "import matplotlib.gridspec as gridspec\n",
    "from scipy.special import binom\n",
    "from scipy.integrate import solve_ivp\n",
    "import Koopman_source as kp\n",
    "import csv"
   ]
  },
  {
   "cell_type": "code",
   "execution_count": null,
   "id": "e998c378-8c2a-430c-b8ea-54bf42fcce96",
   "metadata": {},
   "outputs": [],
   "source": [
    "a = 0.8\n",
    "b = 0.0\n",
    "W = b * np.ones([2,2]) + (a-b) * np.eye(2)\n",
    "# W = np.array([[0.5, 0.1, 0.1], [0.1, 0.5, 0.1], [0.1, 0.1, 0.5]])\n",
    "print(W)\n",
    "\n",
    "c = [0]*20 + [1]*80\n",
    "print(c)\n",
    "C = kp.list2onehot(c, list_classes=[i for i in range(2)])\n",
    "# C = (n x n) probability matrix = expected adjacency matrix = C W C.T\n",
    "P1 = C @ W @ C.T\n",
    "#plt.imshow(P.todense())\n",
    "#print(P)\n",
    "Q1 = np.zeros([100,100])\n",
    "Q2 = np.zeros([100,100])\n",
    "for i in range(20,100):\n",
    "    for j in range(20):\n",
    "        Q1[i,j] = 0.5\n",
    "\n",
    "for i in range(20):\n",
    "    for j in range(20,100):\n",
    "        Q2[i,j] = 0.01\n",
    "\n",
    "\n",
    "P2 = P1 + Q1\n",
    "P3 = P2 + Q2\n",
    "G1 = kp.weight2digraph(P1)\n",
    "G2 = kp.weight2digraph(P2)\n",
    "G3 = kp.weight2digraph(P3)"
   ]
  },
  {
   "cell_type": "code",
   "execution_count": null,
   "id": "973dcddc-efad-4d41-89d4-95bd48b81ab9",
   "metadata": {},
   "outputs": [],
   "source": [
    "A1 = nx.adjacency_matrix(G1, nodelist=list(G1.nodes()))\n",
    "#plt.imshow(A1.todense())\n",
    "A2 = nx.adjacency_matrix(G2, nodelist=list(G2.nodes()))\n",
    "#plt.imshow(A2.todense())\n",
    "A3 = nx.adjacency_matrix(G3, nodelist=list(G3.nodes()))\n",
    "\n",
    "# print(type(A1))\n",
    "\n",
    "plt.subplot(131)\n",
    "plt.imshow(A1.todense())\n",
    "plt.subplot(132)\n",
    "plt.imshow(A2.todense())\n",
    "plt.subplot(133)\n",
    "plt.imshow(A3.todense())\n"
   ]
  },
  {
   "cell_type": "code",
   "execution_count": null,
   "id": "40928c07-07c2-4cbd-9b6e-b4660e69968a",
   "metadata": {
    "scrolled": true
   },
   "outputs": [],
   "source": [
    "## Toy example - Proof of concept\n",
    "h1 = kp.RW(G1, x0 = None, steps = 500, return_history = True)\n",
    "#plt.plot(h1)\n",
    "h2 = kp.RW(G2, x0 = None, steps = 500, return_history = True)\n",
    "#plt.plot(h2)\n",
    "h3 = kp.RW(G3, x0 = None, steps = 500, return_history = True)\n"
   ]
  },
  {
   "cell_type": "code",
   "execution_count": null,
   "id": "db46ec62-37ab-457f-b725-529d33ff19a4",
   "metadata": {
    "scrolled": true
   },
   "outputs": [],
   "source": [
    "plt.figure(figsize = (8, 2.5))\n",
    "plt.subplot(131)\n",
    "plt.plot(h1)\n",
    "plt.ylim([0,105])\n",
    "plt.subplot(132)\n",
    "plt.ylim([0,105])\n",
    "plt.plot(h2)\n",
    "plt.subplot(133)\n",
    "plt.plot(h3)\n",
    "plt.ylim([0,105])"
   ]
  }
 ],
 "metadata": {
  "kernelspec": {
   "display_name": "Python 3 (ipykernel)",
   "language": "python",
   "name": "python3"
  },
  "language_info": {
   "codemirror_mode": {
    "name": "ipython",
    "version": 3
   },
   "file_extension": ".py",
   "mimetype": "text/x-python",
   "name": "python",
   "nbconvert_exporter": "python",
   "pygments_lexer": "ipython3",
   "version": "3.11.7"
  },
  "varInspector": {
   "cols": {
    "lenName": 16,
    "lenType": 16,
    "lenVar": 40
   },
   "kernels_config": {
    "python": {
     "delete_cmd_postfix": "",
     "delete_cmd_prefix": "del ",
     "library": "var_list.py",
     "varRefreshCmd": "print(var_dic_list())"
    },
    "r": {
     "delete_cmd_postfix": ") ",
     "delete_cmd_prefix": "rm(",
     "library": "var_list.r",
     "varRefreshCmd": "cat(var_dic_list()) "
    }
   },
   "types_to_exclude": [
    "module",
    "function",
    "builtin_function_or_method",
    "instance",
    "_Feature"
   ],
   "window_display": false
  }
 },
 "nbformat": 4,
 "nbformat_minor": 5
}
