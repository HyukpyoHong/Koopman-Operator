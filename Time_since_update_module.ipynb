{
 "cells": [
  {
   "cell_type": "code",
   "execution_count": 1,
   "id": "4fafd7e7-cc42-478f-b997-9f0113228937",
   "metadata": {},
   "outputs": [],
   "source": [
    "### Import packages \n",
    "import networkx as nx # for handling graphs/networks \n",
    "import numpy as np # for basic scientific computing \n",
    "import pandas as pd # for basic scientific computing \n",
    "import matplotlib.pyplot as plt # for plotting\n",
    "import matplotlib.gridspec as gridspec\n",
    "from scipy.special import binom\n",
    "from scipy.integrate import solve_ivp\n",
    "import Koopman_source as kp\n",
    "import csv"
   ]
  },
  {
   "cell_type": "code",
   "execution_count": null,
   "id": "cb9b91a7",
   "metadata": {},
   "outputs": [],
   "source": [
    "# Draw the evolution of each entry in the Koopman matrix approximated with increasing number of data from 1 to 100.\n",
    "K_current = K_approx[:,:,0] # current approximation. We keep updating this matrix. \n",
    "\n",
    "iter_range = range(M_max)\n",
    "i_list = range(9)\n",
    "j_list = range(9)\n",
    "ylim0 = [-1, 1]\n",
    "thres_update = 0.05\n",
    "\n",
    "\n",
    "#fig2, ax2 = plt.subplots(len(i_list), len(j_list), figsize = (8,8))\n",
    "#fig2.tight_layout(pad=3.0)\n",
    "\n",
    "time_since_update = np.zeros(K_current.shape, dtype = int)\n",
    "# large time_since_update means an entry is somewhat stable (convergent).\n",
    "# small time_since_update means an entry is somewhat unstable (is oscillating or divergent, ...).\n",
    "thres_unstable = 5 # if time_since_update is smaller than this variable, it means an entry keeps being updated.\n",
    "thres_stable = 20 # if time_since_update is larger than this variable, it means an entry somewhat converged.\n",
    "min_iter = 30\n",
    "\n",
    "for n in iter_range:\n",
    "    time_since_update += 1\n",
    "    K_tmp = K_approx[:,:,n]\n",
    "    \n",
    "    position_update = np.absolute(K_tmp - K_current) > thres_update\n",
    "    K_current[position_update] = K_tmp[position_update]\n",
    "    time_since_update[position_update] = 0\n",
    "    \n",
    "    if np.all((time_since_update < thres_unstable) + (time_since_update > thres_stable)) and n >= min_iter:\n",
    "        print(f'Matrix K converged at iteration {n}!')\n",
    "        break"
   ]
  },
  {
   "cell_type": "code",
   "execution_count": null,
   "id": "6b0fc243-91fb-4a8a-ad76-532b009195a3",
   "metadata": {},
   "outputs": [],
   "source": [
    "float_formatter = \"{:.2f}\".format\n",
    "np.set_printoptions(formatter={'float_kind':float_formatter})\n",
    "\n",
    "#print(np.round(low_val, 3))\n",
    "print(K_current)\n",
    "print(time_since_update)"
   ]
  },
  {
   "cell_type": "code",
   "execution_count": null,
   "id": "6bc0f510",
   "metadata": {},
   "outputs": [],
   "source": [
    "### np.matmul(np.ones(3), np.ones(3))\n",
    "#np.matmul(A_approx[3,:,5], G_pinv[:,2,5])\n",
    "print(A_approx[5,0,iter_range] * G_pinv[0,5,iter_range])\n",
    "#print(G_pinv[0,5,iter_range])\n",
    "\n",
    "#print(G_pinv[:,2,5])\n",
    "#print(np.ones(3) * np.ones(3))"
   ]
  },
  {
   "cell_type": "code",
   "execution_count": null,
   "id": "b383f9af",
   "metadata": {},
   "outputs": [],
   "source": [
    "#print(np.round(low_val, 3))\n",
    "print(np.round(K_current, 3))\n",
    "print(time_since_update)\n",
    "  \n",
    "# convert array into dataframe \n",
    "DF1 = pd.DataFrame(np.round(K_current, 3)) \n",
    "DF2 = pd.DataFrame(time_since_update) \n",
    "# save the dataframe as a csv file \n",
    "#DF1.to_csv(\"K_current.csv\")\n",
    "# DF2.to_csv(\"time_since_update.csv\")"
   ]
  }
 ],
 "metadata": {
  "kernelspec": {
   "display_name": "py_base",
   "language": "python",
   "name": "python3"
  },
  "language_info": {
   "codemirror_mode": {
    "name": "ipython",
    "version": 3
   },
   "file_extension": ".py",
   "mimetype": "text/x-python",
   "name": "python",
   "nbconvert_exporter": "python",
   "pygments_lexer": "ipython3",
   "version": "3.11.7"
  },
  "varInspector": {
   "cols": {
    "lenName": 16,
    "lenType": 16,
    "lenVar": 40
   },
   "kernels_config": {
    "python": {
     "delete_cmd_postfix": "",
     "delete_cmd_prefix": "del ",
     "library": "var_list.py",
     "varRefreshCmd": "print(var_dic_list())"
    },
    "r": {
     "delete_cmd_postfix": ") ",
     "delete_cmd_prefix": "rm(",
     "library": "var_list.r",
     "varRefreshCmd": "cat(var_dic_list()) "
    }
   },
   "types_to_exclude": [
    "module",
    "function",
    "builtin_function_or_method",
    "instance",
    "_Feature"
   ],
   "window_display": false
  }
 },
 "nbformat": 4,
 "nbformat_minor": 5
}
